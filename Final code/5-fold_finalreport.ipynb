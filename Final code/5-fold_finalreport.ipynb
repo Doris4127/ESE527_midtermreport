{
 "cells": [
  {
   "cell_type": "code",
   "execution_count": 50,
   "id": "90df756d",
   "metadata": {},
   "outputs": [],
   "source": [
    "import numpy as np\n",
    "import matplotlib as mpl\n",
    "import matplotlib.pyplot as plt\n",
    "import pandas as pd\n",
    "import random\n",
    "\n",
    "from sklearn.ensemble import IsolationForest\n",
    "from sklearn.model_selection import train_test_split\n",
    "from sklearn.preprocessing import StandardScaler \n",
    "from sklearn.decomposition import KernelPCA, PCA\n",
    "\n",
    "from factor_analyzer import FactorAnalyzer\n",
    "from sklearn.feature_selection import SelectKBest\n",
    "from sklearn.feature_selection import chi2\n",
    "\n",
    "\n",
    "from sklearn import preprocessing  \n",
    "import seaborn as sns\n",
    "from sklearn.metrics import confusion_matrix\n",
    "from sklearn.svm import SVC\n",
    "from sklearn.metrics import accuracy_score, classification_report\n",
    "from sklearn.preprocessing import MinMaxScaler\n",
    "from sklearn.model_selection import GridSearchCV"
   ]
  },
  {
   "cell_type": "code",
   "execution_count": 51,
   "id": "33f9527d",
   "metadata": {},
   "outputs": [],
   "source": [
    "from sklearn.linear_model import Ridge\n",
    "from sklearn.metrics import r2_score\n",
    "from sklearn.metrics import mean_squared_error"
   ]
  },
  {
   "cell_type": "code",
   "execution_count": 65,
   "id": "b601b664",
   "metadata": {},
   "outputs": [],
   "source": [
    "from sklearn.linear_model import Lasso\n",
    "from sklearn.linear_model import LassoCV\n",
    "from sklearn.model_selection import train_test_split\n",
    "import statsmodels.api as sm"
   ]
  },
  {
   "cell_type": "code",
   "execution_count": 53,
   "id": "4a9391f8",
   "metadata": {},
   "outputs": [],
   "source": [
    "from sklearn.neighbors import KNeighborsRegressor\n",
    "from sklearn.linear_model import LinearRegression\n",
    "from sklearn.linear_model import Ridge\n",
    "from sklearn.linear_model import Lasso\n",
    "from sklearn.tree import DecisionTreeRegressor\n",
    "from sklearn.svm import SVR\n",
    "from sklearn.ensemble import RandomForestRegressor\n",
    "from sklearn.ensemble import AdaBoostRegressor\n",
    "from sklearn.ensemble import GradientBoostingRegressor\n",
    "from sklearn.neural_network import MLPRegressor\n",
    "from sklearn.metrics import r2_score\n",
    "from sklearn.metrics import mean_squared_error"
   ]
  },
  {
   "cell_type": "code",
   "execution_count": 66,
   "id": "4d28303b",
   "metadata": {},
   "outputs": [
    {
     "name": "stdout",
     "output_type": "stream",
     "text": [
      "<class 'pandas.core.frame.DataFrame'>\n",
      "RangeIndex: 1503 entries, 0 to 1502\n",
      "Data columns (total 7 columns):\n",
      " #   Column  Non-Null Count  Dtype  \n",
      "---  ------  --------------  -----  \n",
      " 0   x1      1503 non-null   int64  \n",
      " 1   x2      1503 non-null   float64\n",
      " 2   x3      1503 non-null   float64\n",
      " 3   x4      1503 non-null   float64\n",
      " 4   x5      1503 non-null   float64\n",
      " 5   label   1503 non-null   int64  \n",
      " 6   y       1503 non-null   float64\n",
      "dtypes: float64(5), int64(2)\n",
      "memory usage: 82.3 KB\n"
     ]
    }
   ],
   "source": [
    "df = pd.read_excel('airfoil_self_noise.xlsx')\n",
    "df.head()\n",
    "\n",
    "df.shape   \n",
    "df.info() \n",
    "X_input = df.dropna()\n",
    "scaler = MinMaxScaler()\n",
    "\n",
    "X_input = scaler.fit_transform(X_input)\n",
    "X_input = pd.DataFrame(X_input)\n",
    "X_input.columns = [\"Frequency\",\"Angle of attack\",\"Chord length\",\"Free-stream velocity\",\"Suction side displacement thickness\",\"label\",\"Scaled sound pressure level\"] #添加自定义的columns的名字\n"
   ]
  },
  {
   "cell_type": "code",
   "execution_count": 67,
   "id": "c4d15c07",
   "metadata": {},
   "outputs": [],
   "source": [
    "X = X_input.iloc[:,0:6]\n",
    "y = X_input.iloc[:,6]"
   ]
  },
  {
   "cell_type": "code",
   "execution_count": 68,
   "id": "a7d3c197",
   "metadata": {},
   "outputs": [
    {
     "data": {
      "text/html": [
       "<div>\n",
       "<style scoped>\n",
       "    .dataframe tbody tr th:only-of-type {\n",
       "        vertical-align: middle;\n",
       "    }\n",
       "\n",
       "    .dataframe tbody tr th {\n",
       "        vertical-align: top;\n",
       "    }\n",
       "\n",
       "    .dataframe thead th {\n",
       "        text-align: right;\n",
       "    }\n",
       "</style>\n",
       "<table border=\"1\" class=\"dataframe\">\n",
       "  <thead>\n",
       "    <tr style=\"text-align: right;\">\n",
       "      <th></th>\n",
       "      <th>Frequency</th>\n",
       "      <th>Angle of attack</th>\n",
       "      <th>Chord length</th>\n",
       "      <th>Free-stream velocity</th>\n",
       "      <th>Suction side displacement thickness</th>\n",
       "      <th>label</th>\n",
       "    </tr>\n",
       "  </thead>\n",
       "  <tbody>\n",
       "    <tr>\n",
       "      <th>0</th>\n",
       "      <td>0.030303</td>\n",
       "      <td>0.000000</td>\n",
       "      <td>1.000000</td>\n",
       "      <td>1.000000</td>\n",
       "      <td>0.039005</td>\n",
       "      <td>0.0</td>\n",
       "    </tr>\n",
       "    <tr>\n",
       "      <th>1</th>\n",
       "      <td>0.040404</td>\n",
       "      <td>0.000000</td>\n",
       "      <td>1.000000</td>\n",
       "      <td>1.000000</td>\n",
       "      <td>0.039005</td>\n",
       "      <td>0.0</td>\n",
       "    </tr>\n",
       "    <tr>\n",
       "      <th>2</th>\n",
       "      <td>0.053030</td>\n",
       "      <td>0.000000</td>\n",
       "      <td>1.000000</td>\n",
       "      <td>1.000000</td>\n",
       "      <td>0.039005</td>\n",
       "      <td>0.0</td>\n",
       "    </tr>\n",
       "    <tr>\n",
       "      <th>3</th>\n",
       "      <td>0.070707</td>\n",
       "      <td>0.000000</td>\n",
       "      <td>1.000000</td>\n",
       "      <td>1.000000</td>\n",
       "      <td>0.039005</td>\n",
       "      <td>0.0</td>\n",
       "    </tr>\n",
       "    <tr>\n",
       "      <th>4</th>\n",
       "      <td>0.090909</td>\n",
       "      <td>0.000000</td>\n",
       "      <td>1.000000</td>\n",
       "      <td>1.000000</td>\n",
       "      <td>0.039005</td>\n",
       "      <td>0.0</td>\n",
       "    </tr>\n",
       "    <tr>\n",
       "      <th>...</th>\n",
       "      <td>...</td>\n",
       "      <td>...</td>\n",
       "      <td>...</td>\n",
       "      <td>...</td>\n",
       "      <td>...</td>\n",
       "      <td>...</td>\n",
       "    </tr>\n",
       "    <tr>\n",
       "      <th>1498</th>\n",
       "      <td>0.116162</td>\n",
       "      <td>0.702703</td>\n",
       "      <td>0.272727</td>\n",
       "      <td>0.199495</td>\n",
       "      <td>0.904111</td>\n",
       "      <td>1.0</td>\n",
       "    </tr>\n",
       "    <tr>\n",
       "      <th>1499</th>\n",
       "      <td>0.148990</td>\n",
       "      <td>0.702703</td>\n",
       "      <td>0.272727</td>\n",
       "      <td>0.199495</td>\n",
       "      <td>0.904111</td>\n",
       "      <td>1.0</td>\n",
       "    </tr>\n",
       "    <tr>\n",
       "      <th>1500</th>\n",
       "      <td>0.191919</td>\n",
       "      <td>0.702703</td>\n",
       "      <td>0.272727</td>\n",
       "      <td>0.199495</td>\n",
       "      <td>0.904111</td>\n",
       "      <td>1.0</td>\n",
       "    </tr>\n",
       "    <tr>\n",
       "      <th>1501</th>\n",
       "      <td>0.242424</td>\n",
       "      <td>0.702703</td>\n",
       "      <td>0.272727</td>\n",
       "      <td>0.199495</td>\n",
       "      <td>0.904111</td>\n",
       "      <td>1.0</td>\n",
       "    </tr>\n",
       "    <tr>\n",
       "      <th>1502</th>\n",
       "      <td>0.308081</td>\n",
       "      <td>0.702703</td>\n",
       "      <td>0.272727</td>\n",
       "      <td>0.199495</td>\n",
       "      <td>0.904111</td>\n",
       "      <td>1.0</td>\n",
       "    </tr>\n",
       "  </tbody>\n",
       "</table>\n",
       "<p>1503 rows × 6 columns</p>\n",
       "</div>"
      ],
      "text/plain": [
       "      Frequency  Angle of attack  Chord length  Free-stream velocity  \\\n",
       "0      0.030303         0.000000      1.000000              1.000000   \n",
       "1      0.040404         0.000000      1.000000              1.000000   \n",
       "2      0.053030         0.000000      1.000000              1.000000   \n",
       "3      0.070707         0.000000      1.000000              1.000000   \n",
       "4      0.090909         0.000000      1.000000              1.000000   \n",
       "...         ...              ...           ...                   ...   \n",
       "1498   0.116162         0.702703      0.272727              0.199495   \n",
       "1499   0.148990         0.702703      0.272727              0.199495   \n",
       "1500   0.191919         0.702703      0.272727              0.199495   \n",
       "1501   0.242424         0.702703      0.272727              0.199495   \n",
       "1502   0.308081         0.702703      0.272727              0.199495   \n",
       "\n",
       "      Suction side displacement thickness  label  \n",
       "0                                0.039005    0.0  \n",
       "1                                0.039005    0.0  \n",
       "2                                0.039005    0.0  \n",
       "3                                0.039005    0.0  \n",
       "4                                0.039005    0.0  \n",
       "...                                   ...    ...  \n",
       "1498                             0.904111    1.0  \n",
       "1499                             0.904111    1.0  \n",
       "1500                             0.904111    1.0  \n",
       "1501                             0.904111    1.0  \n",
       "1502                             0.904111    1.0  \n",
       "\n",
       "[1503 rows x 6 columns]"
      ]
     },
     "execution_count": 68,
     "metadata": {},
     "output_type": "execute_result"
    }
   ],
   "source": [
    "X"
   ]
  },
  {
   "cell_type": "code",
   "execution_count": 69,
   "id": "9d6c4696",
   "metadata": {},
   "outputs": [
    {
     "data": {
      "text/plain": [
       "0       0.606829\n",
       "1       0.580238\n",
       "2       0.600181\n",
       "3       0.643790\n",
       "4       0.640333\n",
       "          ...   \n",
       "1498    0.183051\n",
       "1499    0.156194\n",
       "1500    0.085729\n",
       "1501    0.075624\n",
       "1502    0.021911\n",
       "Name: Scaled sound pressure level, Length: 1503, dtype: float64"
      ]
     },
     "execution_count": 69,
     "metadata": {},
     "output_type": "execute_result"
    }
   ],
   "source": [
    "y"
   ]
  },
  {
   "cell_type": "code",
   "execution_count": 70,
   "id": "0d09158d",
   "metadata": {},
   "outputs": [
    {
     "name": "stdout",
     "output_type": "stream",
     "text": [
      "[0, 331, 646, 935, 1226]\n"
     ]
    }
   ],
   "source": [
    "list1=[[0,330],[331,645],[646,934],[935,1225],[1226,1503]]\n",
    "a=[]\n",
    "for i in list1:\n",
    "    a.append(i[0])\n",
    "print(a)"
   ]
  },
  {
   "cell_type": "code",
   "execution_count": 73,
   "id": "8bd0a725",
   "metadata": {},
   "outputs": [
    {
     "name": "stderr",
     "output_type": "stream",
     "text": [
      "C:\\Users\\jingu\\anaconda3\\lib\\site-packages\\statsmodels\\tsa\\tsatools.py:142: FutureWarning: In a future version of pandas all arguments of concat except for the argument 'objs' will be keyword-only\n",
      "  x = pd.concat(x[::order], 1)\n",
      "C:\\Users\\jingu\\anaconda3\\lib\\site-packages\\statsmodels\\tsa\\tsatools.py:142: FutureWarning: In a future version of pandas all arguments of concat except for the argument 'objs' will be keyword-only\n",
      "  x = pd.concat(x[::order], 1)\n",
      "C:\\Users\\jingu\\anaconda3\\lib\\site-packages\\statsmodels\\tsa\\tsatools.py:142: FutureWarning: In a future version of pandas all arguments of concat except for the argument 'objs' will be keyword-only\n",
      "  x = pd.concat(x[::order], 1)\n",
      "C:\\Users\\jingu\\anaconda3\\lib\\site-packages\\statsmodels\\tsa\\tsatools.py:142: FutureWarning: In a future version of pandas all arguments of concat except for the argument 'objs' will be keyword-only\n",
      "  x = pd.concat(x[::order], 1)\n"
     ]
    }
   ],
   "source": [
    "ols_score=[]\n",
    "ridge_Training_score=[]\n",
    "ridge_Testing_score=[]\n",
    "lasso_Training_score=[]\n",
    "lasso_Testing_score=[]\n",
    "DTRscore=[]\n",
    "SVRscore=[]\n",
    "RFscore=[]\n",
    "adbscore=[]\n",
    "gbtrscore=[]\n",
    "MLPscore=[]\n",
    "for i in list1:\n",
    "    X_test=X.iloc[i[0]:i[1]]\n",
    "    y_test=y.iloc[i[0]:i[1]]\n",
    "    X_train= X.drop(X.index[i[0]:i[1]])\n",
    "    y_train= y.drop(y.index[i[0]:i[1]])\n",
    "    x = sm.add_constant(X_train) \n",
    "    model = sm.OLS(y_train, x).fit() \n",
    "    ols_score.append(mean_squared_error(y_test,model.predict(sm.add_constant(X_test))))\n",
    "    \n",
    "    ridge=Ridge(alpha=0.4)\n",
    "    ridge.fit(X_train,y_train)\n",
    "    ridge_Training_score.append(mean_squared_error(y_train,ridge.predict(X_train)))\n",
    "    ridge_Testing_score.append(mean_squared_error(y_test,ridge.predict(X_test)))\n",
    "\n",
    "    lasso_cv = LassoCV(cv=5)\n",
    "    lasso_cv.fit(X_train, y_train)\n",
    "    train_score=lasso_cv.score(X_train, y_train)\n",
    "    test_score = lasso_cv.score(X_test, y_test)\n",
    "    lasso_Training_score.append(mean_squared_error(y_train,lasso_cv.predict(X_train)))\n",
    "    lasso_Testing_score.append(mean_squared_error(y_test,lasso_cv.predict(X_test)))\n",
    "    \n",
    "    DTR = DecisionTreeRegressor(max_depth=30)\n",
    "    DTR.fit(X_train,y_train)\n",
    "    y_pre_DTR = DTR.predict(X_test)\n",
    "   # DTR_score=r2_score(y_test,y_pre_DTR)\n",
    "    DTRscore.append((mean_squared_error(y_test,y_pre_DTR)))\n",
    "    \n",
    "    SUPPOT = SVR()\n",
    "    SUPPOT.fit(X_train,y_train)\n",
    "    y_pre_SVR = SUPPOT.predict(X_test)\n",
    "    SVRscore.append((mean_squared_error(y_test,y_pre_SVR)))\n",
    "\n",
    "    \n",
    "    rf = RandomForestRegressor(n_estimators=30,max_depth=20)\n",
    "    rf.fit(X_train,y_train)\n",
    "    y_pre_rf = rf.predict(X_test)\n",
    "    #rf_score=r2_score(y_test,y_pre_rf)\n",
    "    RFscore.append((mean_squared_error(y_test,y_pre_rf)))\n",
    "    \n",
    "    adb = AdaBoostRegressor()\n",
    "    adb.fit(X_train,y_train)\n",
    "    y_pre_adb = adb.predict(X_test)\n",
    "    #adb_score=r2_score(y_test,y_pre_adb)\n",
    "    adbscore.append((mean_squared_error(y_test,y_pre_adb)))\n",
    "    \n",
    "    gbtr = GradientBoostingRegressor()\n",
    "    gbtr.fit(X_train,y_train)\n",
    "    y_pre_gbtr = gbtr.predict(X_test)\n",
    "    #gbtr_score=r2_score(y_test,y_pre_gbtr)\n",
    "    gbtrscore.append((mean_squared_error(y_test,y_pre_gbtr)))\n",
    "    \n",
    "    test_score = []\n",
    "    layers = list(range(5,300,5)) \n",
    "    for i in layers:\n",
    "        MLP = MLPRegressor(activation = 'relu', \n",
    "                           solver = 'sgd', \n",
    "                           hidden_layer_sizes = (i,), \n",
    "                           alpha=1e-2, \n",
    "                           max_iter = 400,\n",
    "                           learning_rate_init = 0.1)\n",
    "        MLP.fit(X_train,y_train)\n",
    "        y_pre=MLP.predict(X_test)\n",
    "        test_score.append(mean_squared_error(y_test,y_pre))\n",
    "    MLPscore.append(min(test_score))"
   ]
  },
  {
   "cell_type": "code",
   "execution_count": 74,
   "id": "61185b11",
   "metadata": {},
   "outputs": [
    {
     "name": "stdout",
     "output_type": "stream",
     "text": [
      "0.021143616025547166\n",
      "0.01590857617589644\n",
      "0.020501444086477853\n",
      "0.015987126830970755\n",
      "0.01977122185016922\n"
     ]
    }
   ],
   "source": [
    "print(np.mean(ols_score))\n",
    "print(np.mean(ridge_Training_score))\n",
    "print(np.mean(ridge_Testing_score))\n",
    "print(np.mean(lasso_Training_score))\n",
    "print(np.mean(lasso_Testing_score))"
   ]
  },
  {
   "cell_type": "code",
   "execution_count": 75,
   "id": "033e4d5a",
   "metadata": {},
   "outputs": [
    {
     "name": "stdout",
     "output_type": "stream",
     "text": [
      "[0.006605979498060085, 0.01673021408204692, 0.013658162718292914, 0.043663796826784514, 0.025059927002551403]\n",
      "[0.018952885929570812, 0.016278928695527474, 0.016816055261458383, 0.011430479642261559, 0.016064531350663974]\n",
      "[0.0066660596249391866, 0.016868347696009853, 0.013696041833595733, 0.04297812807191989, 0.022298643205924618]\n",
      "[0.0190600144238177, 0.01630655409517161, 0.016813220487275876, 0.011460388598247658, 0.016295456550340925]\n",
      "[0.006970561242302446, 0.017092946428120162, 0.013663028362448336, 0.043011528616300594, 0.01811804460167455]\n"
     ]
    }
   ],
   "source": [
    "print(ols_score)\n",
    "print((ridge_Training_score))\n",
    "print((ridge_Testing_score))\n",
    "print((lasso_Training_score))\n",
    "print((lasso_Testing_score))"
   ]
  },
  {
   "cell_type": "code",
   "execution_count": 62,
   "id": "1b4dec6e",
   "metadata": {},
   "outputs": [
    {
     "name": "stdout",
     "output_type": "stream",
     "text": [
      "[0.011855520134964739, 0.01813214777660629, 0.02286209008629277, 0.024599055431642917, 0.02167430156093483]\n",
      "[0.006596602472094272, 0.009104803625471265, 0.01121268787220606, 0.0292612428033585, 0.028101195581525514]\n",
      "[0.0047519773536334456, 0.0115198179859235, 0.011218397653291792, 0.02253286790053006, 0.017562789042809886]\n",
      "[0.00783727942036717, 0.01278966435461803, 0.019960812512849542, 0.02950569632517757, 0.030533118492933303]\n",
      "[0.004456619489800928, 0.009261001609651034, 0.013847953782702389, 0.022568022160093727, 0.020180583767607462]\n",
      "[0.004796476655411321, 0.01332983428836662, 0.011412611967937055, 0.03628651595625619, 0.016154824343625446]\n"
     ]
    }
   ],
   "source": [
    "print((DTRscore))\n",
    "print((SVRscore))\n",
    "print((RFscore))\n",
    "print((adbscore))\n",
    "print((gbtrscore))\n",
    "print((MLPscore))"
   ]
  },
  {
   "cell_type": "code",
   "execution_count": 63,
   "id": "31546a98",
   "metadata": {},
   "outputs": [
    {
     "name": "stdout",
     "output_type": "stream",
     "text": [
      "0.01982462299808831\n",
      "0.01685530647093112\n",
      "0.013517169987237737\n",
      "0.02012531422118912\n",
      "0.014062836161971109\n",
      "0.016396052642319324\n"
     ]
    }
   ],
   "source": [
    "print(np.mean(DTRscore))\n",
    "print(np.mean(SVRscore))\n",
    "print(np.mean(RFscore))\n",
    "print(np.mean(adbscore))\n",
    "print(np.mean(gbtrscore))\n",
    "print(np.mean(MLPscore))\n"
   ]
  },
  {
   "cell_type": "code",
   "execution_count": null,
   "id": "7b1959ac",
   "metadata": {},
   "outputs": [],
   "source": []
  },
  {
   "cell_type": "code",
   "execution_count": null,
   "id": "6f127da5",
   "metadata": {},
   "outputs": [],
   "source": []
  },
  {
   "cell_type": "code",
   "execution_count": null,
   "id": "99fcb6ec",
   "metadata": {},
   "outputs": [],
   "source": []
  },
  {
   "cell_type": "code",
   "execution_count": null,
   "id": "9357e946",
   "metadata": {},
   "outputs": [],
   "source": []
  },
  {
   "cell_type": "code",
   "execution_count": null,
   "id": "2bdbc654",
   "metadata": {},
   "outputs": [],
   "source": []
  },
  {
   "cell_type": "code",
   "execution_count": null,
   "id": "9e06fab8",
   "metadata": {},
   "outputs": [],
   "source": []
  },
  {
   "cell_type": "code",
   "execution_count": null,
   "id": "9649eda3",
   "metadata": {},
   "outputs": [],
   "source": []
  },
  {
   "cell_type": "code",
   "execution_count": null,
   "id": "da11cdbe",
   "metadata": {},
   "outputs": [],
   "source": []
  },
  {
   "cell_type": "code",
   "execution_count": null,
   "id": "d2e21176",
   "metadata": {},
   "outputs": [],
   "source": []
  },
  {
   "cell_type": "code",
   "execution_count": null,
   "id": "4b57e84a",
   "metadata": {},
   "outputs": [],
   "source": []
  },
  {
   "cell_type": "code",
   "execution_count": null,
   "id": "a41c116e",
   "metadata": {},
   "outputs": [],
   "source": []
  },
  {
   "cell_type": "code",
   "execution_count": null,
   "id": "12a356a9",
   "metadata": {},
   "outputs": [],
   "source": []
  }
 ],
 "metadata": {
  "kernelspec": {
   "display_name": "Python 3 (ipykernel)",
   "language": "python",
   "name": "python3"
  },
  "language_info": {
   "codemirror_mode": {
    "name": "ipython",
    "version": 3
   },
   "file_extension": ".py",
   "mimetype": "text/x-python",
   "name": "python",
   "nbconvert_exporter": "python",
   "pygments_lexer": "ipython3",
   "version": "3.9.7"
  }
 },
 "nbformat": 4,
 "nbformat_minor": 5
}
